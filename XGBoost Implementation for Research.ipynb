{
 "cells": [
  {
   "cell_type": "code",
   "execution_count": null,
   "metadata": {},
   "outputs": [],
   "source": [
    "XGBoost Implementation for Research"
   ]
  },
  {
   "cell_type": "code",
   "execution_count": 1,
   "metadata": {},
   "outputs": [
    {
     "ename": "ModuleNotFoundError",
     "evalue": "No module named 'xgboost'",
     "output_type": "error",
     "traceback": [
      "\u001b[1;31m---------------------------------------------------------------------------\u001b[0m",
      "\u001b[1;31mModuleNotFoundError\u001b[0m                       Traceback (most recent call last)",
      "\u001b[1;32m<ipython-input-1-4aca1505911f>\u001b[0m in \u001b[0;36m<module>\u001b[1;34m\u001b[0m\n\u001b[0;32m      6\u001b[0m \u001b[1;32mimport\u001b[0m \u001b[0mpandas\u001b[0m \u001b[1;32mas\u001b[0m \u001b[0mpd\u001b[0m\u001b[1;33m\u001b[0m\u001b[1;33m\u001b[0m\u001b[0m\n\u001b[0;32m      7\u001b[0m \u001b[1;32mfrom\u001b[0m \u001b[0msklearn\u001b[0m \u001b[1;32mimport\u001b[0m \u001b[0mmodel_selection\u001b[0m\u001b[1;33m\u001b[0m\u001b[1;33m\u001b[0m\u001b[0m\n\u001b[1;32m----> 8\u001b[1;33m \u001b[1;32mfrom\u001b[0m \u001b[0mxgboost\u001b[0m \u001b[1;32mimport\u001b[0m \u001b[0mXGBClassifier\u001b[0m\u001b[1;33m\u001b[0m\u001b[1;33m\u001b[0m\u001b[0m\n\u001b[0m\u001b[0;32m      9\u001b[0m \u001b[1;32mimport\u001b[0m \u001b[0mmatplotlib\u001b[0m\u001b[1;33m.\u001b[0m\u001b[0mpyplot\u001b[0m \u001b[1;32mas\u001b[0m \u001b[0mplt\u001b[0m\u001b[1;33m\u001b[0m\u001b[1;33m\u001b[0m\u001b[0m\n\u001b[0;32m     10\u001b[0m \u001b[1;32mimport\u001b[0m \u001b[0mnumpy\u001b[0m \u001b[1;32mas\u001b[0m \u001b[0mnp\u001b[0m\u001b[1;33m\u001b[0m\u001b[1;33m\u001b[0m\u001b[0m\n",
      "\u001b[1;31mModuleNotFoundError\u001b[0m: No module named 'xgboost'"
     ]
    }
   ],
   "source": [
    "\"\"\"\n",
    "XGBoost Classifier\n",
    "\n",
    "\"\"\"\n",
    "\n",
    "import pandas as pd\n",
    "from sklearn import model_selection\n",
    "from xgboost import XGBClassifier\n",
    "import matplotlib.pyplot as plt\n",
    "import numpy as np\n",
    "%matplotlib inline\n",
    "\n",
    "class XGBoost_Classifier():\n",
    "    def __init__(self):\n",
    "        self.split = [2,3,4,5,10]\n",
    "        self.trees = [10,20,50,100]\n",
    "    \n",
    "    def dataset_split(self):\n",
    "        df = pd.read_csv(\"cardio_preprocessed.csv\")  \n",
    "        X = df.drop('cardio',axis=1)\n",
    "        y = df.cardio\n",
    "        return X,y\n",
    "\n",
    "    def model_creation(self):\n",
    "        acc_score = {}       \n",
    "        for i in self.trees:    \n",
    "            acc = []\n",
    "            for j in self.split:\n",
    "                kfold = model_selection.KFold(n_splits=j)\n",
    "                model = XGBClassifier(n_estimators = i)\n",
    "                results = model_selection.cross_val_score(model, X, y, cv=kfold)\n",
    "                accuracy_score = results.mean()\n",
    "                acc.append(accuracy_score)\n",
    "                acc_score[i]=acc\n",
    "        print(acc_score)\n",
    "\n",
    "        return acc_score\n",
    "    \n",
    "    def graph(self, acc_score):\n",
    "        for i in acc_score:\n",
    "            plt.plot(self.split, acc_score[i])\n",
    "        plt.title(\"XGBoost Classifier \\n Variations in Accuracy \\n with K-Fold Splits\", pad=20)\n",
    "        plt.ylabel(\"Accuracy\", fontsize = \"large\")\n",
    "        plt.xlabel('K-Fold Splits', fontsize = \"large\")\n",
    "        plt.legend([\"10 Trees\", \"20 Trees\", \"50 Trees\", \"100 Trees\"], loc='lower right')\n",
    "        plt.show()\n",
    "        \n",
    "\n",
    "\n",
    "\n",
    "xg_cla = XGBoost_Classifier()\n",
    "X,y = xg_cla.dataset_split()\n",
    "acc_score = xg_cla.model_creation()\n",
    "xg_cla.graph(acc_score)\n",
    "\n",
    "print(\"\\n\",acc_score)\n",
    "\n",
    "for x,y in acc_score.items():\n",
    "    print(\"Number of trees {0} ----> Accuracy Score = {1}\". format (x, np.mean(acc_score[x])) )\n"
   ]
  },
  {
   "cell_type": "code",
   "execution_count": null,
   "metadata": {},
   "outputs": [],
   "source": []
  }
 ],
 "metadata": {
  "kernelspec": {
   "display_name": "Python 3",
   "language": "python",
   "name": "python3"
  },
  "language_info": {
   "codemirror_mode": {
    "name": "ipython",
    "version": 3
   },
   "file_extension": ".py",
   "mimetype": "text/x-python",
   "name": "python",
   "nbconvert_exporter": "python",
   "pygments_lexer": "ipython3",
   "version": "3.7.6"
  }
 },
 "nbformat": 4,
 "nbformat_minor": 4
}

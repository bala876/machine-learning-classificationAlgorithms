{
 "cells": [
  {
   "cell_type": "code",
   "execution_count": null,
   "metadata": {},
   "outputs": [],
   "source": [
    "Naive Bayes Implementation for Research"
   ]
  },
  {
   "cell_type": "code",
   "execution_count": 1,
   "metadata": {},
   "outputs": [
    {
     "name": "stdout",
     "output_type": "stream",
     "text": [
      "{1e-09: 0.5851571428571429, 1e-08: 0.5851285714285714, 1e-07: 0.5851142857142857}\n",
      "[1e-09, 1e-08, 1e-07]\n",
      "[0.5851571428571429, 0.5851285714285714, 0.5851142857142857]\n"
     ]
    },
    {
     "data": {
      "image/png": "[encoded data removed]",
      "text/plain": [
       "<Figure size 432x288 with 1 Axes>"
      ]
     },
     "metadata": {
      "needs_background": "light"
     },
     "output_type": "display_data"
    },
    {
     "name": "stdout",
     "output_type": "stream",
     "text": [
      "Maximum Depth 1e-09 ----> Accuracy Score = 0.5851571428571429\n",
      "Maximum Depth 1e-08 ----> Accuracy Score = 0.5851285714285714\n",
      "Maximum Depth 1e-07 ----> Accuracy Score = 0.5851142857142857\n"
     ]
    }
   ],
   "source": [
    "\"\"\"\n",
    "Naive Bayes\n",
    "\n",
    "\"\"\"\n",
    "\n",
    "import pandas as pd\n",
    "from sklearn import model_selection\n",
    "from sklearn.naive_bayes import GaussianNB\n",
    "%matplotlib inline\n",
    "import matplotlib.pyplot as plt\n",
    "import numpy as np\n",
    "\n",
    "class Naive():\n",
    "    def __init__(self):\n",
    "        self.smooth = [1e-9, 1e-8, 1e-7]\n",
    "    \n",
    "    def dataset_split(self):\n",
    "        df = pd.read_csv(\"cardio_preprocessed.csv\")  \n",
    "        X = df.drop('cardio',axis=1)\n",
    "        y = df.cardio\n",
    "        return X,y\n",
    "\n",
    "    def model_creation(self):\n",
    "        acc_score = {}\n",
    "        for i in self.smooth:\n",
    "            #acc = []\n",
    "            kfold = model_selection.KFold(n_splits=5)\n",
    "            model = GaussianNB(var_smoothing=i)\n",
    "            results = model_selection.cross_val_score(model, X, y, cv=kfold)\n",
    "            #accuracy_score = results.mean()\n",
    "            #acc.append(results.mean())\n",
    "            acc_score[i] = results.mean()\n",
    "            \n",
    "        print(acc_score)\n",
    "        return acc_score\n",
    "    \n",
    "    def graph(self, acc_score):\n",
    "        names = list(acc_score.keys())\n",
    "        values = list(acc_score.values())\n",
    "        print(names)\n",
    "        print(values)\n",
    "        plt.plot(names,values)\n",
    "        plt.title(\"Naive Bayes Classifier \\n Variations in Accuracy \\n with var_smoothing\", pad=30)\n",
    "        plt.ylabel(\"Accuracy\", fontsize = \"large\")\n",
    "        plt.xlabel('var_smoothing', fontsize = \"large\")\n",
    "        plt.legend([\"var_smoothing\"], loc='lower right')\n",
    "        plt.show()\n",
    "        \n",
    "        #print(\"\\n\",acc_score)\n",
    "        #print(\"\\nOverall Accuracy Score for Decision Tree = \",np.mean(acc_score))\n",
    "\n",
    "\n",
    "nn = Naive()\n",
    "X,y = nn.dataset_split()\n",
    "acc_score = nn.model_creation()\n",
    "nn.graph(acc_score)\n",
    "\n",
    "\n",
    "for x,y in acc_score.items():\n",
    "    print(\"Maximum Depth {0} ----> Accuracy Score = {1}\". format (x, np.mean(acc_score[x])) )"
   ]
  },
  {
   "cell_type": "code",
   "execution_count": null,
   "metadata": {},
   "outputs": [],
   "source": []
  }
 ],
 "metadata": {
  "kernelspec": {
   "display_name": "Python 3",
   "language": "python",
   "name": "python3"
  },
  "language_info": {
   "codemirror_mode": {
    "name": "ipython",
    "version": 3
   },
   "file_extension": ".py",
   "mimetype": "text/x-python",
   "name": "python",
   "nbconvert_exporter": "python",
   "pygments_lexer": "ipython3",
   "version": "3.7.6"
  }
 },
 "nbformat": 4,
 "nbformat_minor": 4
}
